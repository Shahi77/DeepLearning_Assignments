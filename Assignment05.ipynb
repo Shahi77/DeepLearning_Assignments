{
  "cells": [
    {
      "cell_type": "markdown",
      "metadata": {
        "id": "view-in-github",
        "colab_type": "text"
      },
      "source": [
        "<a href=\"https://colab.research.google.com/github/Shahi77/DeepLearning_Assignments/blob/main/Assignment05.ipynb\" target=\"_parent\"><img src=\"https://colab.research.google.com/assets/colab-badge.svg\" alt=\"Open In Colab\"/></a>"
      ]
    },
    {
      "cell_type": "markdown",
      "source": [
        "VOC2012"
      ],
      "metadata": {
        "id": "7pkG6AxgjBNO"
      }
    },
    {
      "cell_type": "code",
      "execution_count": null,
      "metadata": {
        "colab": {
          "base_uri": "https://localhost:8080/"
        },
        "id": "UZWM-ULLmiH8",
        "outputId": "0f575c2d-061f-49ef-d267-d78621342b04"
      },
      "outputs": [
        {
          "name": "stdout",
          "output_type": "stream",
          "text": [
            "Using downloaded and verified file: ./data/VOCtrainval_11-May-2012.tar\n",
            "Extracting ./data/VOCtrainval_11-May-2012.tar to ./data\n"
          ]
        },
        {
          "name": "stderr",
          "output_type": "stream",
          "text": [
            "/usr/local/lib/python3.11/dist-packages/torch/utils/data/dataloader.py:617: UserWarning: This DataLoader will create 4 worker processes in total. Our suggested max number of worker in current system is 2, which is smaller than what this DataLoader is going to create. Please be aware that excessive worker creation might get DataLoader running slow or even freeze, lower the worker number to avoid potential slowness/freeze if necessary.\n",
            "  warnings.warn(\n",
            "Downloading: \"https://download.pytorch.org/models/resnet18-f37072fd.pth\" to /root/.cache/torch/hub/checkpoints/resnet18-f37072fd.pth\n",
            "100%|██████████| 44.7M/44.7M [00:00<00:00, 126MB/s]\n"
          ]
        },
        {
          "name": "stdout",
          "output_type": "stream",
          "text": [
            "Epoch 1/5, Loss: 0.2202\n",
            "Epoch 2/5, Loss: 0.1943\n",
            "Epoch 3/5, Loss: 0.1806\n",
            "Epoch 4/5, Loss: 0.1681\n",
            "Epoch 5/5, Loss: 0.1557\n",
            "Accuracy: 0.3215, Hamming Loss: 0.0523, Precision: 0.7502, Recall: 0.4324, F1-score: 0.4668, Jaccard Index: 0.3433\n"
          ]
        }
      ],
      "source": [
        "import torch\n",
        "import torch.nn as nn\n",
        "import torch.optim as optim\n",
        "import torchvision.transforms as transforms\n",
        "import torchvision.models as models\n",
        "import torchvision.datasets as datasets\n",
        "from torch.utils.data import DataLoader, Dataset\n",
        "import wandb\n",
        "import numpy as np\n",
        "from sklearn.preprocessing import MultiLabelBinarizer\n",
        "from sklearn.metrics import accuracy_score, hamming_loss, precision_recall_fscore_support, jaccard_score\n",
        "\n",
        "# Initialize Weights & Biases (wandb)\n",
        "wandb.init(project=\"multi-label-image-classification\")\n",
        "\n",
        "# Define VOC 2012 class labels (20 classes)\n",
        "VOC_CLASSES = ['aeroplane', 'bicycle', 'bird', 'boat', 'bottle', 'bus', 'car', 'cat', 'chair', 'cow',\n",
        "               'diningtable', 'dog', 'horse', 'motorbike', 'person', 'pottedplant', 'sheep', 'sofa', 'train', 'tvmonitor']\n",
        "\n",
        "# Initialize and fit MultiLabelBinarizer\n",
        "mlb = MultiLabelBinarizer(classes=VOC_CLASSES)\n",
        "mlb.fit([VOC_CLASSES])  # Fit with all possible classes\n",
        "\n",
        "# Define Data Augmentations\n",
        "transform = transforms.Compose([\n",
        "    transforms.Resize((224, 224)),\n",
        "    transforms.ToTensor(),\n",
        "    transforms.Normalize(mean=[0.485, 0.456, 0.406], std=[0.229, 0.224, 0.225])\n",
        "])\n",
        "\n",
        "# Custom Dataset Wrapper for Multi-Label Classification\n",
        "class VOCMultiLabelDataset(Dataset):\n",
        "    def __init__(self, root=\"./data\", year=\"2012\", image_set=\"train\", transform=None):\n",
        "        self.dataset = datasets.VOCDetection(root=root, year=year, image_set=image_set, download=True)\n",
        "        self.transform = transform\n",
        "\n",
        "    def __len__(self):\n",
        "        return len(self.dataset)\n",
        "\n",
        "    def __getitem__(self, index):\n",
        "        image, target = self.dataset[index]\n",
        "        objects = target[\"annotation\"][\"object\"]\n",
        "\n",
        "        # If only one object exists, wrap it in a list\n",
        "        if isinstance(objects, dict):\n",
        "            objects = [objects]\n",
        "\n",
        "        labels = [obj[\"name\"] for obj in objects]\n",
        "\n",
        "        # Convert labels to one-hot encoding\n",
        "        labels = mlb.transform([labels])[0].astype(np.float32)\n",
        "\n",
        "        if self.transform:\n",
        "            image = self.transform(image)\n",
        "\n",
        "        return image, torch.tensor(labels)\n",
        "\n",
        "# Load Datasets\n",
        "train_dataset = VOCMultiLabelDataset(transform=transform)\n",
        "train_dataloader = DataLoader(train_dataset, batch_size=8, shuffle=True, num_workers=4)# Set num_workers=0 for Colab\n",
        "\n",
        "# Define Multi-Label Classification Model\n",
        "class MultiLabelResNet(nn.Module):\n",
        "    def __init__(self, num_classes=20):\n",
        "        super(MultiLabelResNet, self).__init__()\n",
        "        self.model = models.resnet18(weights=models.ResNet18_Weights.DEFAULT)  # Correct way to load pretrained model\n",
        "        self.model.fc = nn.Linear(self.model.fc.in_features, num_classes)\n",
        "        self.sigmoid = nn.Sigmoid()  # For multi-label classification\n",
        "\n",
        "    def forward(self, x):\n",
        "        return self.sigmoid(self.model(x))\n",
        "\n",
        "# Instantiate Model\n",
        "device = torch.device(\"cuda\" if torch.cuda.is_available() else \"cpu\")\n",
        "model = MultiLabelResNet(num_classes=20).to(device)\n",
        "\n",
        "# Define Loss Function and Optimizer\n",
        "criterion = nn.BCELoss()  # Binary Cross Entropy for multi-label classification\n",
        "optimizer = optim.Adam(model.parameters(), lr=0.001)\n",
        "\n",
        "# Training Loop\n",
        "num_epochs = 5\n",
        "for epoch in range(num_epochs):\n",
        "    model.train()\n",
        "    running_loss = 0.0\n",
        "\n",
        "    for images, labels in train_dataloader:\n",
        "        images, labels = images.to(device), labels.to(device)\n",
        "\n",
        "        optimizer.zero_grad()\n",
        "        outputs = model(images)\n",
        "        loss = criterion(outputs, labels)\n",
        "        loss.backward()\n",
        "        optimizer.step()\n",
        "\n",
        "        running_loss += loss.item()\n",
        "\n",
        "    wandb.log({\"Loss\": running_loss / len(train_dataloader)})\n",
        "    print(f\"Epoch {epoch+1}/{num_epochs}, Loss: {running_loss / len(train_dataloader):.4f}\")\n",
        "\n",
        "# Evaluation\n",
        "model.eval()\n",
        "y_true, y_pred = [], []\n",
        "\n",
        "with torch.no_grad():\n",
        "    for images, labels in train_dataloader:\n",
        "        images, labels = images.to(device), labels.to(device)\n",
        "        outputs = model(images)\n",
        "        predictions = (outputs > 0.5).float()\n",
        "\n",
        "        y_true.extend(labels.cpu().numpy())\n",
        "        y_pred.extend(predictions.cpu().numpy())\n",
        "\n",
        "# Convert to numpy arrays\n",
        "y_true = np.array(y_true)\n",
        "y_pred = np.array(y_pred)\n",
        "\n",
        "# Calculate Metrics\n",
        "accuracy = accuracy_score(y_true, y_pred)\n",
        "h_loss = hamming_loss(y_true, y_pred)\n",
        "precision, recall, f1, _ = precision_recall_fscore_support(y_true, y_pred, average='macro')\n",
        "jaccard = jaccard_score(y_true, y_pred, average='macro')\n",
        "\n",
        "# Log to wandb\n",
        "wandb.log({\n",
        "    \"Accuracy\": accuracy,\n",
        "    \"Hamming Loss\": h_loss,\n",
        "    \"Precision\": precision,\n",
        "    \"Recall\": recall,\n",
        "    \"F1-score\": f1,\n",
        "    \"Jaccard Index\": jaccard\n",
        "})\n",
        "\n",
        "# Print Metrics\n",
        "print(f\"Accuracy: {accuracy:.4f}, Hamming Loss: {h_loss:.4f}, Precision: {precision:.4f}, Recall: {recall:.4f}, F1-score: {f1:.4f}, Jaccard Index: {jaccard:.4f}\")\n"
      ]
    },
    {
      "cell_type": "code",
      "execution_count": null,
      "metadata": {
        "colab": {
          "background_save": true,
          "base_uri": "https://localhost:8080/"
        },
        "id": "a_4gNuFtR17J",
        "outputId": "5c1291e2-92cf-4a35-af7c-87933a4b8281"
      },
      "outputs": [
        {
          "name": "stdout",
          "output_type": "stream",
          "text": [
            "Using downloaded and verified file: ./data/VOCtrainval_11-May-2012.tar\n",
            "Extracting ./data/VOCtrainval_11-May-2012.tar to ./data\n",
            "Epoch 1/5, Loss: 0.1672\n",
            "Epoch 2/5, Loss: 0.1372\n",
            "Epoch 3/5, Loss: 0.1286\n",
            "Epoch 4/5, Loss: 0.1191\n",
            "Epoch 5/5, Loss: 0.1125\n",
            "Model: MobileNetV2, Dropout: 0.3, Augmentation: strong, Image Size: 224\n",
            "Accuracy: 0.5403, Hamming Loss: 0.0332, Precision: 0.8530, Recall: 0.6556, F1-score: 0.7273, Jaccard Index: 0.5859\n"
          ]
        }
      ],
      "source": [
        "import torch\n",
        "import torch.nn as nn\n",
        "import torch.optim as optim\n",
        "import torchvision.transforms as transforms\n",
        "import torchvision.models as models\n",
        "import torchvision.datasets as datasets\n",
        "from torch.utils.data import DataLoader, Dataset\n",
        "import wandb\n",
        "import numpy as np\n",
        "from sklearn.preprocessing import MultiLabelBinarizer\n",
        "from sklearn.metrics import accuracy_score, hamming_loss, precision_recall_fscore_support, jaccard_score\n",
        "\n",
        "# Initialize Weights & Biases (wandb)\n",
        "wandb.init(project=\"multi-label-image-classification\")\n",
        "\n",
        "# Define VOC 2012 class labels (20 classes)\n",
        "VOC_CLASSES = ['aeroplane', 'bicycle', 'bird', 'boat', 'bottle', 'bus', 'car', 'cat', 'chair', 'cow',\n",
        "               'diningtable', 'dog', 'horse', 'motorbike', 'person', 'pottedplant', 'sheep', 'sofa', 'train', 'tvmonitor']\n",
        "\n",
        "mlb = MultiLabelBinarizer(classes=VOC_CLASSES)\n",
        "mlb.fit([VOC_CLASSES])\n",
        "\n",
        "# Define Multiple Data Augmentation Strategies\n",
        "augmentation_setups = {\n",
        "    \"basic\": transforms.Compose([\n",
        "        transforms.Resize((224, 224)),\n",
        "        transforms.ToTensor(),\n",
        "        transforms.Normalize(mean=[0.485, 0.456, 0.406], std=[0.229, 0.224, 0.225])\n",
        "    ]),\n",
        "    \"strong\": transforms.Compose([\n",
        "        transforms.Resize((224, 224)),\n",
        "        transforms.RandomHorizontalFlip(),\n",
        "        transforms.RandomRotation(10),\n",
        "        transforms.ColorJitter(brightness=0.2, contrast=0.2, saturation=0.2, hue=0.1),\n",
        "        transforms.RandomPerspective(distortion_scale=0.2, p=0.5),\n",
        "        transforms.ToTensor(),\n",
        "        transforms.Normalize(mean=[0.485, 0.456, 0.406], std=[0.229, 0.224, 0.225])\n",
        "    ])\n",
        "}\n",
        "\n",
        "# Function to Select Model\n",
        "def get_model(model_name, num_classes=20, dropout_rate=0.3):\n",
        "    if model_name == \"ResNet18\":\n",
        "        model = models.resnet18(weights=models.ResNet18_Weights.DEFAULT)\n",
        "        model.fc = nn.Sequential(\n",
        "            nn.Dropout(dropout_rate),\n",
        "            nn.Linear(model.fc.in_features, num_classes),\n",
        "            nn.Sigmoid()\n",
        "        )\n",
        "    elif model_name == \"MobileNetV2\":\n",
        "        model = models.mobilenet_v2(weights=models.MobileNet_V2_Weights.DEFAULT)\n",
        "        model.classifier[1] = nn.Sequential(\n",
        "            nn.Dropout(dropout_rate),\n",
        "            nn.Linear(model.classifier[1].in_features, num_classes),\n",
        "            nn.Sigmoid()\n",
        "        )\n",
        "    elif model_name == \"EfficientNet-B0\":\n",
        "        model = models.efficientnet_b0(weights=models.EfficientNet_B0_Weights.DEFAULT)\n",
        "        model.classifier[1] = nn.Sequential(\n",
        "            nn.Dropout(dropout_rate),\n",
        "            nn.Linear(model.classifier[1].in_features, num_classes),\n",
        "            nn.Sigmoid()\n",
        "        )\n",
        "    else:\n",
        "        raise ValueError(\"Model not supported\")\n",
        "\n",
        "    return model\n",
        "\n",
        "# Custom Dataset Wrapper\n",
        "class VOCMultiLabelDataset(Dataset):\n",
        "    def __init__(self, root=\"./data\", year=\"2012\", image_set=\"train\", transform=None):\n",
        "        self.dataset = datasets.VOCDetection(root=root, year=year, image_set=image_set, download=True)\n",
        "        self.transform = transform\n",
        "\n",
        "    def __len__(self):\n",
        "        return len(self.dataset)\n",
        "\n",
        "    def __getitem__(self, index):\n",
        "        image, target = self.dataset[index]\n",
        "        objects = target[\"annotation\"][\"object\"]\n",
        "        if isinstance(objects, dict):  # Convert single object dict to list\n",
        "            objects = [objects]\n",
        "        labels = [obj[\"name\"] for obj in objects]\n",
        "        labels = mlb.transform([labels])[0].astype(np.float32)\n",
        "\n",
        "        if self.transform:\n",
        "            image = self.transform(image)\n",
        "\n",
        "        return image, torch.tensor(labels)\n",
        "\n",
        "# Experiment Parameters (Change these)\n",
        "model_name = \"MobileNetV2\"  # Try: \"ResNet18\", \"MobileNetV2\", \"EfficientNet-B0\"\n",
        "dropout_rate = 0.3  # Try: 0.1, 0.3, 0.5\n",
        "augmentation_type = \"strong\"  # Try: \"basic\", \"strong\"\n",
        "image_size = 224  # Try: 128, 224, 256, 384\n",
        "\n",
        "# Set Transform\n",
        "transform = augmentation_setups[augmentation_type]\n",
        "\n",
        "# Load Dataset\n",
        "train_dataset = VOCMultiLabelDataset(transform=transform)\n",
        "train_dataloader = DataLoader(train_dataset, batch_size=16, shuffle=True, num_workers=2)\n",
        "\n",
        "# Initialize Model, Loss, and Optimizer\n",
        "device = torch.device(\"cuda\" if torch.cuda.is_available() else \"cpu\")\n",
        "model = get_model(model_name, dropout_rate=dropout_rate).to(device)\n",
        "criterion = nn.BCELoss()  # Binary Cross-Entropy for multi-label classification\n",
        "optimizer = optim.Adam(model.parameters(), lr=0.001)\n",
        "\n",
        "# Training Loop\n",
        "num_epochs = 5\n",
        "for epoch in range(num_epochs):\n",
        "    model.train()\n",
        "    running_loss = 0.0\n",
        "\n",
        "    for images, labels in train_dataloader:\n",
        "        images, labels = images.to(device), labels.to(device)\n",
        "\n",
        "        optimizer.zero_grad()\n",
        "        outputs = model(images)\n",
        "        loss = criterion(outputs, labels)\n",
        "        loss.backward()\n",
        "        optimizer.step()\n",
        "\n",
        "        running_loss += loss.item()\n",
        "\n",
        "    wandb.log({\"Loss\": running_loss / len(train_dataloader)})\n",
        "    print(f\"Epoch {epoch+1}/{num_epochs}, Loss: {running_loss / len(train_dataloader):.4f}\")\n",
        "\n",
        "# Evaluation\n",
        "model.eval()\n",
        "y_true, y_pred = [], []\n",
        "\n",
        "with torch.no_grad():\n",
        "    for images, labels in train_dataloader:\n",
        "        images, labels = images.to(device), labels.to(device)\n",
        "        outputs = model(images)\n",
        "        predictions = (outputs > 0.5).float()\n",
        "\n",
        "        y_true.extend(labels.cpu().numpy())\n",
        "        y_pred.extend(predictions.cpu().numpy())\n",
        "\n",
        "# Convert to numpy arrays\n",
        "y_true = np.array(y_true)\n",
        "y_pred = np.array(y_pred)\n",
        "\n",
        "# Calculate Metrics\n",
        "accuracy = accuracy_score(y_true, y_pred)\n",
        "h_loss = hamming_loss(y_true, y_pred)\n",
        "precision, recall, f1, _ = precision_recall_fscore_support(y_true, y_pred, average='macro')\n",
        "jaccard = jaccard_score(y_true, y_pred, average='macro')\n",
        "\n",
        "# Log to wandb\n",
        "wandb.log({\n",
        "    \"Model\": model_name,\n",
        "    \"Dropout Rate\": dropout_rate,\n",
        "    \"Augmentation\": augmentation_type,\n",
        "    \"Image Size\": image_size,\n",
        "    \"Accuracy\": accuracy,\n",
        "    \"Hamming Loss\": h_loss,\n",
        "    \"Precision\": precision,\n",
        "    \"Recall\": recall,\n",
        "    \"F1-score\": f1,\n",
        "    \"Jaccard Index\": jaccard\n",
        "})\n",
        "\n",
        "# Print Metrics\n",
        "print(f\"Model: {model_name}, Dropout: {dropout_rate}, Augmentation: {augmentation_type}, Image Size: {image_size}\")\n",
        "print(f\"Accuracy: {accuracy:.4f}, Hamming Loss: {h_loss:.4f}, Precision: {precision:.4f}, Recall: {recall:.4f}, F1-score: {f1:.4f}, Jaccard Index: {jaccard:.4f}\")\n"
      ]
    },
    {
      "cell_type": "markdown",
      "source": [
        "PASCAL-VOC2007"
      ],
      "metadata": {
        "id": "-oEikNX8i-67"
      }
    },
    {
      "cell_type": "code",
      "execution_count": null,
      "metadata": {
        "id": "mxhdzeI7W-A7",
        "colab": {
          "base_uri": "https://localhost:8080/",
          "height": 1000
        },
        "outputId": "5760eb0d-6d30-4fa6-dd1b-39eda969ea11"
      },
      "outputs": [
        {
          "output_type": "stream",
          "name": "stderr",
          "text": [
            "\u001b[34m\u001b[1mwandb\u001b[0m: Using wandb-core as the SDK backend.  Please refer to https://wandb.me/wandb-core for more information.\n"
          ]
        },
        {
          "output_type": "display_data",
          "data": {
            "text/plain": [
              "<IPython.core.display.Javascript object>"
            ],
            "application/javascript": [
              "\n",
              "        window._wandbApiKey = new Promise((resolve, reject) => {\n",
              "            function loadScript(url) {\n",
              "            return new Promise(function(resolve, reject) {\n",
              "                let newScript = document.createElement(\"script\");\n",
              "                newScript.onerror = reject;\n",
              "                newScript.onload = resolve;\n",
              "                document.body.appendChild(newScript);\n",
              "                newScript.src = url;\n",
              "            });\n",
              "            }\n",
              "            loadScript(\"https://cdn.jsdelivr.net/npm/postmate/build/postmate.min.js\").then(() => {\n",
              "            const iframe = document.createElement('iframe')\n",
              "            iframe.style.cssText = \"width:0;height:0;border:none\"\n",
              "            document.body.appendChild(iframe)\n",
              "            const handshake = new Postmate({\n",
              "                container: iframe,\n",
              "                url: 'https://wandb.ai/authorize'\n",
              "            });\n",
              "            const timeout = setTimeout(() => reject(\"Couldn't auto authenticate\"), 5000)\n",
              "            handshake.then(function(child) {\n",
              "                child.on('authorize', data => {\n",
              "                    clearTimeout(timeout)\n",
              "                    resolve(data)\n",
              "                });\n",
              "            });\n",
              "            })\n",
              "        });\n",
              "    "
            ]
          },
          "metadata": {}
        },
        {
          "output_type": "stream",
          "name": "stderr",
          "text": [
            "\u001b[34m\u001b[1mwandb\u001b[0m: Logging into wandb.ai. (Learn how to deploy a W&B server locally: https://wandb.me/wandb-server)\n",
            "\u001b[34m\u001b[1mwandb\u001b[0m: You can find your API key in your browser here: https://wandb.ai/authorize\n",
            "wandb: Paste an API key from your profile and hit enter:"
          ]
        },
        {
          "name": "stdout",
          "output_type": "stream",
          "text": [
            " ··········\n"
          ]
        },
        {
          "output_type": "stream",
          "name": "stderr",
          "text": [
            "\u001b[34m\u001b[1mwandb\u001b[0m: \u001b[33mWARNING\u001b[0m If you're specifying your api key in code, ensure this code is not shared publicly.\n",
            "\u001b[34m\u001b[1mwandb\u001b[0m: \u001b[33mWARNING\u001b[0m Consider setting the WANDB_API_KEY environment variable, or running `wandb login` from the command line.\n",
            "\u001b[34m\u001b[1mwandb\u001b[0m: No netrc file found, creating one.\n",
            "\u001b[34m\u001b[1mwandb\u001b[0m: Appending key for api.wandb.ai to your netrc file: /root/.netrc\n",
            "\u001b[34m\u001b[1mwandb\u001b[0m: Currently logged in as: \u001b[33mshahi77\u001b[0m (\u001b[33mshahi77-national-institute-of-technology-hamirpur\u001b[0m) to \u001b[32mhttps://api.wandb.ai\u001b[0m. Use \u001b[1m`wandb login --relogin`\u001b[0m to force relogin\n"
          ]
        },
        {
          "output_type": "display_data",
          "data": {
            "text/plain": [
              "<IPython.core.display.HTML object>"
            ],
            "text/html": [
              "Tracking run with wandb version 0.19.7"
            ]
          },
          "metadata": {}
        },
        {
          "output_type": "display_data",
          "data": {
            "text/plain": [
              "<IPython.core.display.HTML object>"
            ],
            "text/html": [
              "Run data is saved locally in <code>/content/wandb/run-20250309_054606-caqhzmag</code>"
            ]
          },
          "metadata": {}
        },
        {
          "output_type": "display_data",
          "data": {
            "text/plain": [
              "<IPython.core.display.HTML object>"
            ],
            "text/html": [
              "Syncing run <strong><a href='https://wandb.ai/shahi77-national-institute-of-technology-hamirpur/multi-label-image-classification/runs/caqhzmag' target=\"_blank\">efficient-surf-24</a></strong> to <a href='https://wandb.ai/shahi77-national-institute-of-technology-hamirpur/multi-label-image-classification' target=\"_blank\">Weights & Biases</a> (<a href='https://wandb.me/developer-guide' target=\"_blank\">docs</a>)<br>"
            ]
          },
          "metadata": {}
        },
        {
          "output_type": "display_data",
          "data": {
            "text/plain": [
              "<IPython.core.display.HTML object>"
            ],
            "text/html": [
              " View project at <a href='https://wandb.ai/shahi77-national-institute-of-technology-hamirpur/multi-label-image-classification' target=\"_blank\">https://wandb.ai/shahi77-national-institute-of-technology-hamirpur/multi-label-image-classification</a>"
            ]
          },
          "metadata": {}
        },
        {
          "output_type": "display_data",
          "data": {
            "text/plain": [
              "<IPython.core.display.HTML object>"
            ],
            "text/html": [
              " View run at <a href='https://wandb.ai/shahi77-national-institute-of-technology-hamirpur/multi-label-image-classification/runs/caqhzmag' target=\"_blank\">https://wandb.ai/shahi77-national-institute-of-technology-hamirpur/multi-label-image-classification/runs/caqhzmag</a>"
            ]
          },
          "metadata": {}
        },
        {
          "output_type": "stream",
          "name": "stdout",
          "text": [
            "Downloading http://host.robots.ox.ac.uk/pascal/VOC/voc2007/VOCtrainval_06-Nov-2007.tar to ./data/VOCtrainval_06-Nov-2007.tar\n"
          ]
        },
        {
          "output_type": "stream",
          "name": "stderr",
          "text": [
            "100%|██████████| 460M/460M [00:32<00:00, 14.2MB/s]\n"
          ]
        },
        {
          "output_type": "stream",
          "name": "stdout",
          "text": [
            "Extracting ./data/VOCtrainval_06-Nov-2007.tar to ./data\n"
          ]
        },
        {
          "output_type": "stream",
          "name": "stderr",
          "text": [
            "/usr/local/lib/python3.11/dist-packages/torchvision/models/_utils.py:208: UserWarning: The parameter 'pretrained' is deprecated since 0.13 and may be removed in the future, please use 'weights' instead.\n",
            "  warnings.warn(\n",
            "/usr/local/lib/python3.11/dist-packages/torchvision/models/_utils.py:223: UserWarning: Arguments other than a weight enum or `None` for 'weights' are deprecated since 0.13 and may be removed in the future. The current behavior is equivalent to passing `weights=ResNet18_Weights.IMAGENET1K_V1`. You can also use `weights=ResNet18_Weights.DEFAULT` to get the most up-to-date weights.\n",
            "  warnings.warn(msg)\n",
            "Downloading: \"https://download.pytorch.org/models/resnet18-f37072fd.pth\" to /root/.cache/torch/hub/checkpoints/resnet18-f37072fd.pth\n",
            "100%|██████████| 44.7M/44.7M [00:00<00:00, 112MB/s]\n"
          ]
        },
        {
          "output_type": "stream",
          "name": "stdout",
          "text": [
            "Epoch 1/5, Loss: 0.2216, Accuracy: 0.1020\n",
            "Epoch 2/5, Loss: 0.1887, Accuracy: 0.1591\n",
            "Epoch 3/5, Loss: 0.1741, Accuracy: 0.2063\n",
            "Epoch 4/5, Loss: 0.1674, Accuracy: 0.2299\n",
            "Epoch 5/5, Loss: 0.1587, Accuracy: 0.2667\n"
          ]
        },
        {
          "output_type": "display_data",
          "data": {
            "text/plain": [
              "<Figure size 1000x500 with 1 Axes>"
            ],
            "image/png": "[encoded data removed]"
          },
          "metadata": {}
        }
      ],
      "source": [
        "import torch\n",
        "import torch.nn as nn\n",
        "import torch.optim as optim\n",
        "import torchvision.transforms as transforms\n",
        "import torchvision.models as models\n",
        "import torchvision.datasets as datasets\n",
        "from torch.utils.data import DataLoader, Dataset\n",
        "import numpy as np\n",
        "import matplotlib.pyplot as plt\n",
        "import wandb\n",
        "from sklearn.preprocessing import MultiLabelBinarizer\n",
        "from sklearn.metrics import accuracy_score, hamming_loss, precision_recall_fscore_support, jaccard_score\n",
        "\n",
        "# Initialize Weights & Biases (wandb)\n",
        "wandb.init(project=\"multi-label-image-classification\")\n",
        "\n",
        "# Dataset Selection\n",
        "dataset_name = \"PASCAL-VOC2007\"  # Choose from [\"NUS-WIDE\", \"MS-COCO\", \"PASCAL-VOC2007\", \"VOC2012\", \"Visual Genome\", \"News-500\", \"CUB\"]\n",
        "\n",
        "# Define Transformations\n",
        "transform = transforms.Compose([\n",
        "    transforms.Resize((224, 224)),\n",
        "    transforms.RandomHorizontalFlip(),\n",
        "    transforms.RandomRotation(10),\n",
        "    transforms.ColorJitter(brightness=0.2, contrast=0.2, saturation=0.2, hue=0.1),\n",
        "    transforms.ToTensor(),\n",
        "    transforms.Normalize(mean=[0.485, 0.456, 0.406], std=[0.229, 0.224, 0.225])\n",
        "])\n",
        "\n",
        "# Define MultiLabelBinarizer\n",
        "VOC_CLASSES = ['aeroplane', 'bicycle', 'bird', 'boat', 'bottle', 'bus', 'car', 'cat', 'chair', 'cow',\n",
        "               'diningtable', 'dog', 'horse', 'motorbike', 'person', 'pottedplant', 'sheep', 'sofa', 'train', 'tvmonitor']\n",
        "mlb = MultiLabelBinarizer(classes=VOC_CLASSES)\n",
        "mlb.fit([VOC_CLASSES])  # Fix NotFittedError\n",
        "\n",
        "# Custom Dataset Class\n",
        "class MultiLabelDataset(Dataset):\n",
        "    def __init__(self, root, dataset_name, transform=None):\n",
        "        if dataset_name == \"VOC2012\":\n",
        "            self.dataset = datasets.VOCDetection(root=root, year=\"2012\", image_set=\"train\", download=True)\n",
        "        elif dataset_name == \"PASCAL-VOC2007\":\n",
        "            self.dataset = datasets.VOCDetection(root=root, year=\"2007\", image_set=\"train\", download=True)\n",
        "        else:\n",
        "            raise ValueError(\"Dataset not supported yet!\")\n",
        "        self.transform = transform\n",
        "\n",
        "    def __len__(self):\n",
        "        return len(self.dataset)\n",
        "\n",
        "    def __getitem__(self, index):\n",
        "        image, target = self.dataset[index]\n",
        "        labels = [obj[\"name\"] for obj in target[\"annotation\"][\"object\"]]\n",
        "        labels = mlb.transform([labels])[0].astype(np.float32)\n",
        "        if self.transform:\n",
        "            image = self.transform(image)\n",
        "        return image, torch.tensor(labels)\n",
        "\n",
        "# Load Dataset\n",
        "train_dataset = MultiLabelDataset(root=\"./data\", dataset_name=dataset_name, transform=transform)\n",
        "train_dataloader = DataLoader(train_dataset, batch_size=16, shuffle=True, num_workers=2)\n",
        "\n",
        "# Define Model Options\n",
        "model_choices = {\n",
        "    \"resnet18\": models.resnet18,\n",
        "    \"mobilenet_v2\": models.mobilenet_v2,\n",
        "    \"vgg16\": models.vgg16,\n",
        "    \"densenet121\": models.densenet121,\n",
        "    \"alexnet\": models.alexnet,\n",
        "    \"googlenet\": models.googlenet\n",
        "}\n",
        "model_name = \"resnet18\"  # Choose model\n",
        "\n",
        "# Define Multi-Label Classification Model\n",
        "class MultiLabelModel(nn.Module):\n",
        "    def __init__(self, model_name, num_classes=20, dropout_rate=0.5):\n",
        "        super(MultiLabelModel, self).__init__()\n",
        "        self.model = model_choices[model_name](pretrained=True)\n",
        "        if \"fc\" in dir(self.model):\n",
        "            in_features = self.model.fc.in_features\n",
        "            self.model.fc = nn.Sequential(\n",
        "                nn.Dropout(dropout_rate),\n",
        "                nn.Linear(in_features, num_classes)\n",
        "            )\n",
        "        else:\n",
        "            in_features = self.model.classifier[6].in_features\n",
        "            self.model.classifier[6] = nn.Sequential(\n",
        "                nn.Dropout(dropout_rate),\n",
        "                nn.Linear(in_features, num_classes)\n",
        "            )\n",
        "        self.sigmoid = nn.Sigmoid()\n",
        "\n",
        "    def forward(self, x):\n",
        "        return self.sigmoid(self.model(x))\n",
        "\n",
        "# Instantiate Model\n",
        "device = torch.device(\"cuda\" if torch.cuda.is_available() else \"cpu\")\n",
        "model = MultiLabelModel(model_name=model_name, num_classes=20, dropout_rate=0.3).to(device)\n",
        "\n",
        "# Define Loss Function and Optimizer\n",
        "criterion = nn.BCELoss()\n",
        "optimizer = optim.Adam(model.parameters(), lr=0.001)\n",
        "\n",
        "# Training Loop\n",
        "num_epochs = 5\n",
        "train_losses = []\n",
        "accuracies = []\n",
        "\n",
        "for epoch in range(num_epochs):\n",
        "    model.train()\n",
        "    running_loss = 0.0\n",
        "    y_true, y_pred = [], []\n",
        "    for images, labels in train_dataloader:\n",
        "        images, labels = images.to(device), labels.to(device)\n",
        "        optimizer.zero_grad()\n",
        "        outputs = model(images)\n",
        "        loss = criterion(outputs, labels)\n",
        "        loss.backward()\n",
        "        optimizer.step()\n",
        "        running_loss += loss.item()\n",
        "        predictions = (outputs > 0.5).float()\n",
        "        y_true.extend(labels.cpu().numpy())\n",
        "        y_pred.extend(predictions.cpu().numpy())\n",
        "\n",
        "    avg_loss = running_loss / len(train_dataloader)\n",
        "    accuracy = accuracy_score(np.array(y_true), np.array(y_pred))\n",
        "    train_losses.append(avg_loss)\n",
        "    accuracies.append(accuracy)\n",
        "    wandb.log({\"Loss\": avg_loss, \"Accuracy\": accuracy})\n",
        "    print(f\"Epoch {epoch+1}/{num_epochs}, Loss: {avg_loss:.4f}, Accuracy: {accuracy:.4f}\")\n",
        "\n",
        "# Plot Loss and Accuracy Curves\n",
        "plt.figure(figsize=(10, 5))\n",
        "plt.plot(range(1, num_epochs+1), train_losses, marker='o', linestyle='-', color='b', label='Training Loss')\n",
        "plt.plot(range(1, num_epochs+1), accuracies, marker='s', linestyle='-', color='r', label='Training Accuracy')\n",
        "plt.xlabel(\"Epochs\")\n",
        "plt.ylabel(\"Metrics\")\n",
        "plt.title(\"Training Loss and Accuracy Over Epochs\")\n",
        "plt.legend()\n",
        "plt.show()\n"
      ]
    },
    {
      "cell_type": "code",
      "source": [
        "import torch\n",
        "import torch.nn as nn\n",
        "import torch.optim as optim\n",
        "import torchvision.transforms as transforms\n",
        "import torchvision.models as models\n",
        "import torchvision.datasets as datasets\n",
        "from torch.utils.data import DataLoader, Dataset\n",
        "import numpy as np\n",
        "import matplotlib.pyplot as plt\n",
        "import wandb\n",
        "from sklearn.preprocessing import MultiLabelBinarizer\n",
        "from sklearn.metrics import accuracy_score, hamming_loss, precision_recall_fscore_support, jaccard_score\n",
        "\n",
        "# Initialize Weights & Biases (wandb)\n",
        "wandb.init(project=\"multi-label-image-classification\")\n",
        "\n",
        "# Dataset Selection\n",
        "dataset_name = \"PASCAL-VOC2007\"  # Choose from [\"NUS-WIDE\", \"MS-COCO\", \"PASCAL-VOC2007\", \"VOC2012\", \"Visual Genome\", \"News-500\", \"CUB\"]\n",
        "\n",
        "# Define Transformations\n",
        "transform = transforms.Compose([\n",
        "    transforms.Resize((224, 224)),\n",
        "    transforms.RandomHorizontalFlip(),\n",
        "    transforms.RandomRotation(10),\n",
        "    transforms.ColorJitter(brightness=0.2, contrast=0.2, saturation=0.2, hue=0.1),\n",
        "    transforms.ToTensor(),\n",
        "    transforms.Normalize(mean=[0.485, 0.456, 0.406], std=[0.229, 0.224, 0.225])\n",
        "])\n",
        "\n",
        "# Define MultiLabelBinarizer\n",
        "VOC_CLASSES = ['aeroplane', 'bicycle', 'bird', 'boat', 'bottle', 'bus', 'car', 'cat', 'chair', 'cow',\n",
        "               'diningtable', 'dog', 'horse', 'motorbike', 'person', 'pottedplant', 'sheep', 'sofa', 'train', 'tvmonitor']\n",
        "mlb = MultiLabelBinarizer(classes=VOC_CLASSES)\n",
        "mlb.fit([VOC_CLASSES])  # Fix NotFittedError\n",
        "\n",
        "# Custom Dataset Class\n",
        "class MultiLabelDataset(Dataset):\n",
        "    def __init__(self, root, dataset_name, transform=None):\n",
        "        if dataset_name == \"VOC2012\":\n",
        "            self.dataset = datasets.VOCDetection(root=root, year=\"2012\", image_set=\"train\", download=True)\n",
        "        elif dataset_name == \"PASCAL-VOC2007\":\n",
        "            self.dataset = datasets.VOCDetection(root=root, year=\"2007\", image_set=\"train\", download=True)\n",
        "        else:\n",
        "            raise ValueError(\"Dataset not supported yet!\")\n",
        "        self.transform = transform\n",
        "\n",
        "    def __len__(self):\n",
        "        return len(self.dataset)\n",
        "\n",
        "    def __getitem__(self, index):\n",
        "        image, target = self.dataset[index]\n",
        "        labels = [obj[\"name\"] for obj in target[\"annotation\"][\"object\"]]\n",
        "        labels = mlb.transform([labels])[0].astype(np.float32)\n",
        "        if self.transform:\n",
        "            image = self.transform(image)\n",
        "        return image, torch.tensor(labels)\n",
        "\n",
        "# Load Dataset\n",
        "train_dataset = MultiLabelDataset(root=\"./data\", dataset_name=dataset_name, transform=transform)\n",
        "train_dataloader = DataLoader(train_dataset, batch_size=16, shuffle=True, num_workers=2)\n",
        "\n",
        "# Define Model Options\n",
        "model_choices = {\n",
        "    \"resnet18\": models.resnet18,\n",
        "    \"mobilenet_v2\": models.mobilenet_v2,\n",
        "    \"vgg16\": models.vgg16,\n",
        "    \"densenet121\": models.densenet121,\n",
        "    \"alexnet\": models.alexnet,\n",
        "    \"googlenet\": models.googlenet\n",
        "}\n",
        "model_name = \"googlenet\"  # Choose model\n",
        "\n",
        "# Define Multi-Label Classification Model\n",
        "class MultiLabelModel(nn.Module):\n",
        "    def __init__(self, model_name, num_classes=20, dropout_rate=0.5):\n",
        "        super(MultiLabelModel, self).__init__()\n",
        "        self.model = model_choices[model_name](pretrained=True)\n",
        "        if \"fc\" in dir(self.model):\n",
        "            in_features = self.model.fc.in_features\n",
        "            self.model.fc = nn.Sequential(\n",
        "                nn.Dropout(dropout_rate),\n",
        "                nn.Linear(in_features, num_classes)\n",
        "            )\n",
        "        else:\n",
        "            in_features = self.model.classifier[6].in_features\n",
        "            self.model.classifier[6] = nn.Sequential(\n",
        "                nn.Dropout(dropout_rate),\n",
        "                nn.Linear(in_features, num_classes)\n",
        "            )\n",
        "        self.sigmoid = nn.Sigmoid()\n",
        "\n",
        "    def forward(self, x):\n",
        "        return self.sigmoid(self.model(x))\n",
        "\n",
        "# Instantiate Model\n",
        "device = torch.device(\"cuda\" if torch.cuda.is_available() else \"cpu\")\n",
        "model = MultiLabelModel(model_name=model_name, num_classes=20, dropout_rate=0.3).to(device)\n",
        "\n",
        "# Define Loss Function and Optimizer\n",
        "criterion = nn.BCELoss()\n",
        "optimizer = optim.Adam(model.parameters(), lr=0.001)\n",
        "\n",
        "# Training Loop\n",
        "num_epochs = 5\n",
        "train_losses = []\n",
        "accuracies = []\n",
        "\n",
        "for epoch in range(num_epochs):\n",
        "    model.train()\n",
        "    running_loss = 0.0\n",
        "    y_true, y_pred = [], []\n",
        "    for images, labels in train_dataloader:\n",
        "        images, labels = images.to(device), labels.to(device)\n",
        "        optimizer.zero_grad()\n",
        "        outputs = model(images)\n",
        "        loss = criterion(outputs, labels)\n",
        "        loss.backward()\n",
        "        optimizer.step()\n",
        "        running_loss += loss.item()\n",
        "        predictions = (outputs > 0.5).float()\n",
        "        y_true.extend(labels.cpu().numpy())\n",
        "        y_pred.extend(predictions.cpu().numpy())\n",
        "\n",
        "    avg_loss = running_loss / len(train_dataloader)\n",
        "    accuracy = accuracy_score(np.array(y_true), np.array(y_pred))\n",
        "    train_losses.append(avg_loss)\n",
        "    accuracies.append(accuracy)\n",
        "    wandb.log({\"Loss\": avg_loss, \"Accuracy\": accuracy})\n",
        "    print(f\"Epoch {epoch+1}/{num_epochs}, Loss: {avg_loss:.4f}, Accuracy: {accuracy:.4f}\")\n",
        "\n",
        "# Plot Loss and Accuracy Curves\n",
        "plt.figure(figsize=(10, 5))\n",
        "plt.plot(range(1, num_epochs+1), train_losses, marker='o', linestyle='-', color='b', label='Training Loss')\n",
        "plt.plot(range(1, num_epochs+1), accuracies, marker='s', linestyle='-', color='r', label='Training Accuracy')\n",
        "plt.xlabel(\"Epochs\")\n",
        "plt.ylabel(\"Metrics\")\n",
        "plt.title(\"Training Loss and Accuracy Over Epochs\")\n",
        "plt.legend()\n",
        "plt.show()\n"
      ],
      "metadata": {
        "colab": {
          "base_uri": "https://localhost:8080/",
          "height": 297
        },
        "id": "nSTt-RtUG4p-",
        "outputId": "4b540ab9-4625-4801-cfd0-77becfaa7eed"
      },
      "execution_count": null,
      "outputs": [
        {
          "output_type": "stream",
          "name": "stderr",
          "text": [
            "\u001b[34m\u001b[1mwandb\u001b[0m: Using wandb-core as the SDK backend.  Please refer to https://wandb.me/wandb-core for more information.\n"
          ]
        },
        {
          "output_type": "display_data",
          "data": {
            "text/plain": [
              "<IPython.core.display.Javascript object>"
            ],
            "application/javascript": [
              "\n",
              "        window._wandbApiKey = new Promise((resolve, reject) => {\n",
              "            function loadScript(url) {\n",
              "            return new Promise(function(resolve, reject) {\n",
              "                let newScript = document.createElement(\"script\");\n",
              "                newScript.onerror = reject;\n",
              "                newScript.onload = resolve;\n",
              "                document.body.appendChild(newScript);\n",
              "                newScript.src = url;\n",
              "            });\n",
              "            }\n",
              "            loadScript(\"https://cdn.jsdelivr.net/npm/postmate/build/postmate.min.js\").then(() => {\n",
              "            const iframe = document.createElement('iframe')\n",
              "            iframe.style.cssText = \"width:0;height:0;border:none\"\n",
              "            document.body.appendChild(iframe)\n",
              "            const handshake = new Postmate({\n",
              "                container: iframe,\n",
              "                url: 'https://wandb.ai/authorize'\n",
              "            });\n",
              "            const timeout = setTimeout(() => reject(\"Couldn't auto authenticate\"), 5000)\n",
              "            handshake.then(function(child) {\n",
              "                child.on('authorize', data => {\n",
              "                    clearTimeout(timeout)\n",
              "                    resolve(data)\n",
              "                });\n",
              "            });\n",
              "            })\n",
              "        });\n",
              "    "
            ]
          },
          "metadata": {}
        },
        {
          "output_type": "stream",
          "name": "stderr",
          "text": [
            "\u001b[34m\u001b[1mwandb\u001b[0m: Logging into wandb.ai. (Learn how to deploy a W&B server locally: https://wandb.me/wandb-server)\n",
            "\u001b[34m\u001b[1mwandb\u001b[0m: You can find your API key in your browser here: https://wandb.ai/authorize\n",
            "wandb: Paste an API key from your profile and hit enter:"
          ]
        },
        {
          "name": "stdout",
          "output_type": "stream",
          "text": [
            " ··········\n"
          ]
        },
        {
          "output_type": "stream",
          "name": "stderr",
          "text": [
            "\u001b[34m\u001b[1mwandb\u001b[0m: \u001b[33mWARNING\u001b[0m If you're specifying your api key in code, ensure this code is not shared publicly.\n",
            "\u001b[34m\u001b[1mwandb\u001b[0m: \u001b[33mWARNING\u001b[0m Consider setting the WANDB_API_KEY environment variable, or running `wandb login` from the command line.\n",
            "\u001b[34m\u001b[1mwandb\u001b[0m: No netrc file found, creating one.\n",
            "\u001b[34m\u001b[1mwandb\u001b[0m: Appending key for api.wandb.ai to your netrc file: /root/.netrc\n",
            "\u001b[34m\u001b[1mwandb\u001b[0m: Currently logged in as: \u001b[33mshahi77\u001b[0m (\u001b[33mshahi77-national-institute-of-technology-hamirpur\u001b[0m) to \u001b[32mhttps://api.wandb.ai\u001b[0m. Use \u001b[1m`wandb login --relogin`\u001b[0m to force relogin\n"
          ]
        },
        {
          "output_type": "display_data",
          "data": {
            "text/plain": [
              "<IPython.core.display.HTML object>"
            ],
            "text/html": [
              "Tracking run with wandb version 0.19.7"
            ]
          },
          "metadata": {}
        },
        {
          "output_type": "display_data",
          "data": {
            "text/plain": [
              "<IPython.core.display.HTML object>"
            ],
            "text/html": [
              "Run data is saved locally in <code>/content/wandb/run-20250309_181456-rm5auvs3</code>"
            ]
          },
          "metadata": {}
        },
        {
          "output_type": "display_data",
          "data": {
            "text/plain": [
              "<IPython.core.display.HTML object>"
            ],
            "text/html": [
              "Syncing run <strong><a href='https://wandb.ai/shahi77-national-institute-of-technology-hamirpur/multi-label-image-classification/runs/rm5auvs3' target=\"_blank\">celestial-feather-25</a></strong> to <a href='https://wandb.ai/shahi77-national-institute-of-technology-hamirpur/multi-label-image-classification' target=\"_blank\">Weights & Biases</a> (<a href='https://wandb.me/developer-guide' target=\"_blank\">docs</a>)<br>"
            ]
          },
          "metadata": {}
        },
        {
          "output_type": "display_data",
          "data": {
            "text/plain": [
              "<IPython.core.display.HTML object>"
            ],
            "text/html": [
              " View project at <a href='https://wandb.ai/shahi77-national-institute-of-technology-hamirpur/multi-label-image-classification' target=\"_blank\">https://wandb.ai/shahi77-national-institute-of-technology-hamirpur/multi-label-image-classification</a>"
            ]
          },
          "metadata": {}
        },
        {
          "output_type": "display_data",
          "data": {
            "text/plain": [
              "<IPython.core.display.HTML object>"
            ],
            "text/html": [
              " View run at <a href='https://wandb.ai/shahi77-national-institute-of-technology-hamirpur/multi-label-image-classification/runs/rm5auvs3' target=\"_blank\">https://wandb.ai/shahi77-national-institute-of-technology-hamirpur/multi-label-image-classification/runs/rm5auvs3</a>"
            ]
          },
          "metadata": {}
        }
      ]
    },
    {
      "cell_type": "markdown",
      "source": [
        "NUS WIDE dataset"
      ],
      "metadata": {
        "id": "_MgQ2z27bKm-"
      }
    },
    {
      "cell_type": "code",
      "source": [
        "import kagglehub\n",
        "\n",
        "# Download latest version\n",
        "path = kagglehub.dataset_download(\"xinleili/nuswide\")\n",
        "\n",
        "print(\"Path to dataset files:\", path)"
      ],
      "metadata": {
        "colab": {
          "base_uri": "https://localhost:8080/"
        },
        "id": "O1ffSZlvZtIa",
        "outputId": "b3b626eb-b011-4cd5-db5b-06c0fa300437"
      },
      "execution_count": 2,
      "outputs": [
        {
          "output_type": "stream",
          "name": "stdout",
          "text": [
            "Downloading from https://www.kaggle.com/api/v1/datasets/download/xinleili/nuswide?dataset_version_number=1...\n"
          ]
        },
        {
          "output_type": "stream",
          "name": "stderr",
          "text": [
            "100%|██████████| 5.77G/5.77G [00:55<00:00, 113MB/s]"
          ]
        },
        {
          "output_type": "stream",
          "name": "stdout",
          "text": [
            "Extracting files...\n"
          ]
        },
        {
          "output_type": "stream",
          "name": "stderr",
          "text": [
            "\n"
          ]
        },
        {
          "output_type": "stream",
          "name": "stdout",
          "text": [
            "Path to dataset files: /root/.cache/kagglehub/datasets/xinleili/nuswide/versions/1\n"
          ]
        }
      ]
    },
    {
      "cell_type": "code",
      "source": [
        "import os\n",
        "import glob\n",
        "import random\n",
        "import pandas as pd\n",
        "from PIL import Image\n",
        "import numpy as np\n",
        "import matplotlib.pyplot as plt\n",
        "\n",
        "import torch\n",
        "from torch.utils.data import Dataset, DataLoader\n",
        "import torch.nn as nn\n",
        "import torch.optim as optim\n",
        "import torchvision.transforms as transforms\n",
        "import torchvision.models as models\n",
        "\n",
        "import wandb\n",
        "\n",
        "##############################################\n",
        "# Function to create train.csv and val.csv by scanning the dataset_dir recursively.\n",
        "##############################################\n",
        "def create_csv_files(dataset_dir, train_csv_path, val_csv_path, classes, train_ratio=0.8):\n",
        "    \"\"\"\n",
        "    Recursively scans the dataset_dir for image files,\n",
        "    generates random multi-label annotations (for demo purposes), and splits them into\n",
        "    training and validation CSV files.\n",
        "    \"\"\"\n",
        "    # Use recursive globbing to find images in all subdirectories.\n",
        "    img_extensions = (\"*.jpg\", \"*.jpeg\", \"*.png\")\n",
        "    image_files = []\n",
        "    for ext in img_extensions:\n",
        "        image_files.extend(glob.glob(os.path.join(dataset_dir, \"**\", ext), recursive=True))\n",
        "    image_files = sorted(image_files)\n",
        "\n",
        "    if not image_files:\n",
        "        raise FileNotFoundError(f\"No image files found in {dataset_dir} (searched recursively)\")\n",
        "\n",
        "    # Generate a random multi-label for each image.\n",
        "    # For demonstration, assign each image between 1 and 3 random labels.\n",
        "    data = []\n",
        "    for img_path in image_files:\n",
        "        num_labels = random.randint(1, min(3, len(classes)))\n",
        "        labels = random.sample(classes, num_labels)\n",
        "        labels_str = \",\".join(labels)\n",
        "        data.append({\"image_path\": img_path, \"labels\": labels_str})\n",
        "\n",
        "    # Shuffle and split data.\n",
        "    random.shuffle(data)\n",
        "    split_idx = int(len(data) * train_ratio)\n",
        "    train_data = data[:split_idx]\n",
        "    val_data = data[split_idx:]\n",
        "\n",
        "    # Save to CSV.\n",
        "    pd.DataFrame(train_data).to_csv(train_csv_path, index=False)\n",
        "    pd.DataFrame(val_data).to_csv(val_csv_path, index=False)\n",
        "    print(f\"Created {len(train_data)} training samples and {len(val_data)} validation samples.\")\n",
        "\n",
        "##############################################\n",
        "# Custom Dataset for Multi-label Classification\n",
        "##############################################\n",
        "class MultiLabelDataset(Dataset):\n",
        "    def __init__(self, csv_file, classes, transform=None):\n",
        "        \"\"\"\n",
        "        Args:\n",
        "            csv_file (str): Path to the CSV file with annotations.\n",
        "            classes (list): List of all possible class names.\n",
        "            transform (callable, optional): Optional transform to be applied on an image.\n",
        "        \"\"\"\n",
        "        self.data = pd.read_csv(csv_file)\n",
        "        self.classes = classes\n",
        "        self.transform = transform\n",
        "\n",
        "    def __len__(self):\n",
        "        return len(self.data)\n",
        "\n",
        "    def __getitem__(self, idx):\n",
        "        row = self.data.iloc[idx]\n",
        "        image_path = row['image_path']\n",
        "        labels_str = row['labels']  # Expected format: \"cat,dog,bird\", etc.\n",
        "        labels_list = labels_str.split(',')\n",
        "        # Create a multi-hot vector.\n",
        "        label_vector = np.zeros(len(self.classes), dtype=np.float32)\n",
        "        for label in labels_list:\n",
        "            label = label.strip()\n",
        "            if label in self.classes:\n",
        "                label_vector[self.classes.index(label)] = 1.0\n",
        "\n",
        "        image = Image.open(image_path).convert('RGB')\n",
        "        if self.transform:\n",
        "            image = self.transform(image)\n",
        "        return image, torch.FloatTensor(label_vector)\n",
        "\n",
        "##############################################\n",
        "# Multi-label Model based on ResNet50\n",
        "##############################################\n",
        "class MultiLabelResNet(nn.Module):\n",
        "    def __init__(self, num_classes, dropout_rate=0.5):\n",
        "        super(MultiLabelResNet, self).__init__()\n",
        "        self.base_model = models.resnet50(pretrained=True)\n",
        "        num_ftrs = self.base_model.fc.in_features\n",
        "        self.base_model.fc = nn.Sequential(\n",
        "            nn.Dropout(dropout_rate),\n",
        "            nn.Linear(num_ftrs, num_classes)\n",
        "        )\n",
        "\n",
        "    def forward(self, x):\n",
        "        return self.base_model(x)\n",
        "\n",
        "##############################################\n",
        "# Ranking Loss for Multi-label Learning\n",
        "##############################################\n",
        "class RankingLoss(nn.Module):\n",
        "    def __init__(self, margin=1.0):\n",
        "        super(RankingLoss, self).__init__()\n",
        "        self.margin = margin\n",
        "\n",
        "    def forward(self, outputs, targets):\n",
        "        loss = 0.0\n",
        "        batch_size = outputs.size(0)\n",
        "        for i in range(batch_size):\n",
        "            pos_idx = (targets[i] == 1).nonzero(as_tuple=False).squeeze()\n",
        "            neg_idx = (targets[i] == 0).nonzero(as_tuple=False).squeeze()\n",
        "            if pos_idx.dim() == 0:\n",
        "                pos_idx = pos_idx.unsqueeze(0)\n",
        "            if neg_idx.dim() == 0:\n",
        "                neg_idx = neg_idx.unsqueeze(0)\n",
        "            pos_scores = outputs[i][pos_idx]\n",
        "            neg_scores = outputs[i][neg_idx]\n",
        "            for pos in pos_scores:\n",
        "                for neg in neg_scores:\n",
        "                    loss += torch.clamp(self.margin - (pos - neg), min=0)\n",
        "        return loss / batch_size\n",
        "\n",
        "##############################################\n",
        "# Combined Loss: Ranking Loss + BCE Loss\n",
        "##############################################\n",
        "def combined_loss(outputs, targets, ranking_loss_fn, bce_loss_fn, alpha=0.5):\n",
        "    loss_ranking = ranking_loss_fn(outputs, targets)\n",
        "    loss_bce = bce_loss_fn(outputs, targets)\n",
        "    return alpha * loss_ranking + (1 - alpha) * loss_bce\n",
        "\n",
        "##############################################\n",
        "# Validation Function to Compute Metrics\n",
        "##############################################\n",
        "def validate(model, val_loader, device, threshold=0.5):\n",
        "    model.eval()\n",
        "    total_loss = 0.0\n",
        "    total_samples = 0\n",
        "    exact_match = 0\n",
        "    hamming_loss_total = 0.0\n",
        "    bce_loss_fn = nn.BCEWithLogitsLoss()\n",
        "\n",
        "    with torch.no_grad():\n",
        "        for inputs, labels in val_loader:\n",
        "            inputs = inputs.to(device)\n",
        "            labels = labels.to(device)\n",
        "            outputs = model(inputs)\n",
        "            loss = bce_loss_fn(outputs, labels)\n",
        "            total_loss += loss.item() * inputs.size(0)\n",
        "            total_samples += inputs.size(0)\n",
        "\n",
        "            preds = torch.sigmoid(outputs)\n",
        "            preds = (preds > threshold).float()\n",
        "            exact_match += (preds == labels).all(dim=1).sum().item()\n",
        "            sample_hamming = (preds != labels).sum(dim=1) / labels.size(1)\n",
        "            hamming_loss_total += sample_hamming.sum().item()\n",
        "\n",
        "    avg_loss = total_loss / total_samples\n",
        "    exact_match_ratio = exact_match / total_samples\n",
        "    avg_hamming_loss = hamming_loss_total / total_samples\n",
        "    return avg_loss, exact_match_ratio, avg_hamming_loss\n",
        "\n",
        "##############################################\n",
        "# Main Training and Evaluation Loop\n",
        "##############################################\n",
        "def main():\n",
        "    # Define the dataset directory for NUSWIDE.\n",
        "    dataset_dir = \"/root/.cache/kagglehub/datasets/xinleili/nuswide/versions/1\"\n",
        "    csv_train_path = os.path.join(dataset_dir, \"train.csv\")\n",
        "    csv_val_path   = os.path.join(dataset_dir, \"val.csv\")\n",
        "\n",
        "    # Define the classes (for simulation/demo purposes).\n",
        "    classes = [\"cat\", \"dog\", \"bird\", \"fruit\", \"vegetable\", \"flower\"]\n",
        "\n",
        "    # Create CSV files if they do not exist.\n",
        "    if not os.path.exists(csv_train_path) or not os.path.exists(csv_val_path):\n",
        "        print(\"CSV files not found. Creating train.csv and val.csv from dataset images...\")\n",
        "        create_csv_files(dataset_dir, csv_train_path, csv_val_path, classes, train_ratio=0.8)\n",
        "\n",
        "    # Configuration parameters.\n",
        "    config_dict = {\n",
        "        \"epochs\": 10,\n",
        "        \"batch_size\": 16,\n",
        "        \"learning_rate\": 0.001,\n",
        "        \"architecture\": \"ResNet50\",\n",
        "        \"hidden_layers\": 3,          # For naming only.\n",
        "        \"activation\": \"ReLU\",        # For naming only.\n",
        "        \"data_augmentation\": \"Resize+RandomHorizontalFlip\",\n",
        "        \"dropout_rate\": 0.5,\n",
        "        \"image_size\": 224,\n",
        "        \"loss_alpha\": 0.5,           # Weight for ranking loss vs. BCE loss.\n",
        "        \"csv_train\": csv_train_path,\n",
        "        \"csv_val\": csv_val_path,\n",
        "        \"classes\": classes\n",
        "    }\n",
        "\n",
        "    # Build a descriptive run name.\n",
        "    run_name = f\"hl_{config_dict['hidden_layers']}_bs_{config_dict['batch_size']}_ac_{config_dict['activation']}\"\n",
        "\n",
        "    # Initialize wandb.\n",
        "    wandb.init(project=\"multi_label_classification\", name=run_name, config=config_dict)\n",
        "    config = wandb.config\n",
        "\n",
        "    # Data transformations.\n",
        "    train_transforms = transforms.Compose([\n",
        "        transforms.Resize((config.image_size, config.image_size)),\n",
        "        transforms.RandomHorizontalFlip(),\n",
        "        transforms.ToTensor(),\n",
        "        transforms.Normalize([0.485, 0.456, 0.406], [0.229, 0.224, 0.225])\n",
        "    ])\n",
        "\n",
        "    val_transforms = transforms.Compose([\n",
        "        transforms.Resize((config.image_size, config.image_size)),\n",
        "        transforms.ToTensor(),\n",
        "        transforms.Normalize([0.485, 0.456, 0.406], [0.229, 0.224, 0.225])\n",
        "    ])\n",
        "\n",
        "    # Create datasets.\n",
        "    train_dataset = MultiLabelDataset(csv_file=config.csv_train, classes=config.classes, transform=train_transforms)\n",
        "    val_dataset   = MultiLabelDataset(csv_file=config.csv_val, classes=config.classes, transform=val_transforms)\n",
        "\n",
        "    # Data loaders.\n",
        "    train_loader = DataLoader(train_dataset, batch_size=config.batch_size, shuffle=True, num_workers=4)\n",
        "    val_loader   = DataLoader(val_dataset, batch_size=config.batch_size, shuffle=False, num_workers=4)\n",
        "\n",
        "    device = torch.device(\"cuda\" if torch.cuda.is_available() else \"cpu\")\n",
        "    num_classes = len(config.classes)\n",
        "\n",
        "    # Initialize model.\n",
        "    model = MultiLabelResNet(num_classes, dropout_rate=config.dropout_rate).to(device)\n",
        "    optimizer = optim.Adam(model.parameters(), lr=config.learning_rate)\n",
        "    bce_loss_fn = nn.BCEWithLogitsLoss()\n",
        "    ranking_loss_fn = RankingLoss(margin=1.0)\n",
        "\n",
        "    train_loss_list = []\n",
        "    val_loss_list = []\n",
        "    epochs_list = []\n",
        "\n",
        "    # Training loop.\n",
        "    for epoch in range(config.epochs):\n",
        "        model.train()\n",
        "        epoch_loss = 0.0\n",
        "        for inputs, labels in train_loader:\n",
        "            inputs = inputs.to(device)\n",
        "            labels = labels.to(device)\n",
        "\n",
        "            optimizer.zero_grad()\n",
        "            outputs = model(inputs)\n",
        "            loss = combined_loss(outputs, labels, ranking_loss_fn, bce_loss_fn, alpha=config.loss_alpha)\n",
        "            loss.backward()\n",
        "            optimizer.step()\n",
        "            epoch_loss += loss.item() * inputs.size(0)\n",
        "\n",
        "        avg_train_loss = epoch_loss / len(train_dataset)\n",
        "        wandb.log({\"train_loss\": avg_train_loss, \"epoch\": epoch})\n",
        "        train_loss_list.append(avg_train_loss)\n",
        "\n",
        "        # Validation.\n",
        "        val_loss, exact_match_ratio, avg_hamming_loss = validate(model, val_loader, device)\n",
        "        wandb.log({\n",
        "            \"val_loss\": val_loss,\n",
        "            \"exact_match_ratio\": exact_match_ratio,\n",
        "            \"avg_hamming_loss\": avg_hamming_loss,\n",
        "            \"epoch\": epoch\n",
        "        })\n",
        "        val_loss_list.append(val_loss)\n",
        "        epochs_list.append(epoch)\n",
        "\n",
        "        print(f\"Epoch {epoch+1}/{config.epochs}, Train Loss: {avg_train_loss:.4f}, Val Loss: {val_loss:.4f}, \"\n",
        "              f\"Exact Match: {exact_match_ratio:.4f}, Hamming Loss: {avg_hamming_loss:.4f}\")\n",
        "\n",
        "    # Plot and log loss curves.\n",
        "    plt.figure(figsize=(8, 6))\n",
        "    plt.plot(epochs_list, train_loss_list, label='Train Loss')\n",
        "    plt.plot(epochs_list, val_loss_list, label='Validation Loss')\n",
        "    plt.xlabel('Epoch')\n",
        "    plt.ylabel('Loss')\n",
        "    plt.title('Loss Curves')\n",
        "    plt.legend()\n",
        "    plt.grid(True)\n",
        "    wandb.log({\"loss_curve\": wandb.Image(plt)})\n",
        "    plt.show()\n",
        "\n",
        "    # Save the model.\n",
        "    torch.save(model.state_dict(), \"multi_label_resnet.pth\")\n",
        "    wandb.save(\"multi_label_resnet.pth\")\n",
        "\n",
        "if __name__ == \"__main__\":\n",
        "    main()\n"
      ],
      "metadata": {
        "colab": {
          "base_uri": "https://localhost:8080/",
          "height": 540
        },
        "id": "Qfg-59HOeg8d",
        "outputId": "9c663549-7648-4539-dace-21e77bc3d27d"
      },
      "execution_count": null,
      "outputs": [
        {
          "output_type": "stream",
          "name": "stdout",
          "text": [
            "CSV files not found. Creating train.csv and val.csv from dataset images...\n",
            "Created 215723 training samples and 53931 validation samples.\n"
          ]
        },
        {
          "output_type": "stream",
          "name": "stderr",
          "text": [
            "\u001b[34m\u001b[1mwandb\u001b[0m: Using wandb-core as the SDK backend.  Please refer to https://wandb.me/wandb-core for more information.\n"
          ]
        },
        {
          "output_type": "display_data",
          "data": {
            "text/plain": [
              "<IPython.core.display.Javascript object>"
            ],
            "application/javascript": [
              "\n",
              "        window._wandbApiKey = new Promise((resolve, reject) => {\n",
              "            function loadScript(url) {\n",
              "            return new Promise(function(resolve, reject) {\n",
              "                let newScript = document.createElement(\"script\");\n",
              "                newScript.onerror = reject;\n",
              "                newScript.onload = resolve;\n",
              "                document.body.appendChild(newScript);\n",
              "                newScript.src = url;\n",
              "            });\n",
              "            }\n",
              "            loadScript(\"https://cdn.jsdelivr.net/npm/postmate/build/postmate.min.js\").then(() => {\n",
              "            const iframe = document.createElement('iframe')\n",
              "            iframe.style.cssText = \"width:0;height:0;border:none\"\n",
              "            document.body.appendChild(iframe)\n",
              "            const handshake = new Postmate({\n",
              "                container: iframe,\n",
              "                url: 'https://wandb.ai/authorize'\n",
              "            });\n",
              "            const timeout = setTimeout(() => reject(\"Couldn't auto authenticate\"), 5000)\n",
              "            handshake.then(function(child) {\n",
              "                child.on('authorize', data => {\n",
              "                    clearTimeout(timeout)\n",
              "                    resolve(data)\n",
              "                });\n",
              "            });\n",
              "            })\n",
              "        });\n",
              "    "
            ]
          },
          "metadata": {}
        },
        {
          "output_type": "stream",
          "name": "stderr",
          "text": [
            "\u001b[34m\u001b[1mwandb\u001b[0m: Logging into wandb.ai. (Learn how to deploy a W&B server locally: https://wandb.me/wandb-server)\n",
            "\u001b[34m\u001b[1mwandb\u001b[0m: You can find your API key in your browser here: https://wandb.ai/authorize\n",
            "wandb: Paste an API key from your profile and hit enter:"
          ]
        },
        {
          "name": "stdout",
          "output_type": "stream",
          "text": [
            " ··········\n"
          ]
        },
        {
          "output_type": "stream",
          "name": "stderr",
          "text": [
            "\u001b[34m\u001b[1mwandb\u001b[0m: \u001b[33mWARNING\u001b[0m If you're specifying your api key in code, ensure this code is not shared publicly.\n",
            "\u001b[34m\u001b[1mwandb\u001b[0m: \u001b[33mWARNING\u001b[0m Consider setting the WANDB_API_KEY environment variable, or running `wandb login` from the command line.\n",
            "\u001b[34m\u001b[1mwandb\u001b[0m: No netrc file found, creating one.\n",
            "\u001b[34m\u001b[1mwandb\u001b[0m: Appending key for api.wandb.ai to your netrc file: /root/.netrc\n",
            "\u001b[34m\u001b[1mwandb\u001b[0m: Currently logged in as: \u001b[33mshahi77\u001b[0m (\u001b[33mshahi77-national-institute-of-technology-hamirpur\u001b[0m) to \u001b[32mhttps://api.wandb.ai\u001b[0m. Use \u001b[1m`wandb login --relogin`\u001b[0m to force relogin\n"
          ]
        },
        {
          "output_type": "display_data",
          "data": {
            "text/plain": [
              "<IPython.core.display.HTML object>"
            ],
            "text/html": [
              "Tracking run with wandb version 0.19.7"
            ]
          },
          "metadata": {}
        },
        {
          "output_type": "display_data",
          "data": {
            "text/plain": [
              "<IPython.core.display.HTML object>"
            ],
            "text/html": [
              "Run data is saved locally in <code>/content/wandb/run-20250310_090810-nl7g8moi</code>"
            ]
          },
          "metadata": {}
        },
        {
          "output_type": "display_data",
          "data": {
            "text/plain": [
              "<IPython.core.display.HTML object>"
            ],
            "text/html": [
              "Syncing run <strong><a href='https://wandb.ai/shahi77-national-institute-of-technology-hamirpur/multi_label_classification/runs/nl7g8moi' target=\"_blank\">hl_3_bs_16_ac_ReLU</a></strong> to <a href='https://wandb.ai/shahi77-national-institute-of-technology-hamirpur/multi_label_classification' target=\"_blank\">Weights & Biases</a> (<a href='https://wandb.me/developer-guide' target=\"_blank\">docs</a>)<br>"
            ]
          },
          "metadata": {}
        },
        {
          "output_type": "display_data",
          "data": {
            "text/plain": [
              "<IPython.core.display.HTML object>"
            ],
            "text/html": [
              " View project at <a href='https://wandb.ai/shahi77-national-institute-of-technology-hamirpur/multi_label_classification' target=\"_blank\">https://wandb.ai/shahi77-national-institute-of-technology-hamirpur/multi_label_classification</a>"
            ]
          },
          "metadata": {}
        },
        {
          "output_type": "display_data",
          "data": {
            "text/plain": [
              "<IPython.core.display.HTML object>"
            ],
            "text/html": [
              " View run at <a href='https://wandb.ai/shahi77-national-institute-of-technology-hamirpur/multi_label_classification/runs/nl7g8moi' target=\"_blank\">https://wandb.ai/shahi77-national-institute-of-technology-hamirpur/multi_label_classification/runs/nl7g8moi</a>"
            ]
          },
          "metadata": {}
        },
        {
          "output_type": "stream",
          "name": "stderr",
          "text": [
            "/usr/local/lib/python3.11/dist-packages/torch/utils/data/dataloader.py:617: UserWarning: This DataLoader will create 4 worker processes in total. Our suggested max number of worker in current system is 2, which is smaller than what this DataLoader is going to create. Please be aware that excessive worker creation might get DataLoader running slow or even freeze, lower the worker number to avoid potential slowness/freeze if necessary.\n",
            "  warnings.warn(\n",
            "/usr/local/lib/python3.11/dist-packages/torchvision/models/_utils.py:208: UserWarning: The parameter 'pretrained' is deprecated since 0.13 and may be removed in the future, please use 'weights' instead.\n",
            "  warnings.warn(\n",
            "/usr/local/lib/python3.11/dist-packages/torchvision/models/_utils.py:223: UserWarning: Arguments other than a weight enum or `None` for 'weights' are deprecated since 0.13 and may be removed in the future. The current behavior is equivalent to passing `weights=ResNet50_Weights.IMAGENET1K_V1`. You can also use `weights=ResNet50_Weights.DEFAULT` to get the most up-to-date weights.\n",
            "  warnings.warn(msg)\n",
            "Downloading: \"https://download.pytorch.org/models/resnet50-0676ba61.pth\" to /root/.cache/torch/hub/checkpoints/resnet50-0676ba61.pth\n",
            "100%|██████████| 97.8M/97.8M [00:00<00:00, 120MB/s]\n"
          ]
        },
        {
          "output_type": "stream",
          "name": "stdout",
          "text": [
            "Epoch 1/10, Train Loss: 4.0295, Val Loss: 0.6415, Exact Match: 0.0006, Hamming Loss: 0.3334\n",
            "Epoch 2/10, Train Loss: 4.0083, Val Loss: 0.6447, Exact Match: 0.0004, Hamming Loss: 0.3333\n",
            "Epoch 3/10, Train Loss: 4.0035, Val Loss: 0.6406, Exact Match: 0.0002, Hamming Loss: 0.3332\n",
            "Epoch 4/10, Train Loss: 3.9991, Val Loss: 0.6412, Exact Match: 0.0000, Hamming Loss: 0.3329\n"
          ]
        }
      ]
    },
    {
      "cell_type": "markdown",
      "source": [
        "Visual Genome"
      ],
      "metadata": {
        "id": "b3uV5NTiklD1"
      }
    },
    {
      "cell_type": "code",
      "source": [
        "import kagglehub\n",
        "\n",
        "# Download latest version\n",
        "path = kagglehub.dataset_download(\"mathurinache/visual-genome\")\n",
        "\n",
        "print(\"Path to dataset files:\", path)"
      ],
      "metadata": {
        "colab": {
          "base_uri": "https://localhost:8080/"
        },
        "id": "R8tXYSQNin-_",
        "outputId": "a7306b59-9099-4943-d5ca-83d4ae1bdf25"
      },
      "execution_count": 2,
      "outputs": [
        {
          "output_type": "stream",
          "name": "stdout",
          "text": [
            "Downloading from https://www.kaggle.com/api/v1/datasets/download/mathurinache/visual-genome?dataset_version_number=1...\n"
          ]
        },
        {
          "output_type": "stream",
          "name": "stderr",
          "text": [
            "100%|██████████| 129M/129M [00:02<00:00, 57.9MB/s]"
          ]
        },
        {
          "output_type": "stream",
          "name": "stdout",
          "text": [
            "Extracting files...\n"
          ]
        },
        {
          "output_type": "stream",
          "name": "stderr",
          "text": [
            "\n"
          ]
        },
        {
          "output_type": "stream",
          "name": "stdout",
          "text": [
            "Path to dataset files: /root/.cache/kagglehub/datasets/mathurinache/visual-genome/versions/1\n"
          ]
        }
      ]
    },
    {
      "cell_type": "code",
      "source": [
        "ls"
      ],
      "metadata": {
        "colab": {
          "base_uri": "https://localhost:8080/"
        },
        "id": "ca6v6RVFjJoc",
        "outputId": "64579929-91ca-4aa6-d98e-8b57618f16dd"
      },
      "execution_count": 4,
      "outputs": [
        {
          "output_type": "stream",
          "name": "stdout",
          "text": [
            "attribute_synsets.json  objects.json         relationship_alias.txt  relationship_synsets.json\n",
            "object_alias.txt        object_synsets.json  relationships.json      \u001b[0m\u001b[01;34msample_data\u001b[0m/\n"
          ]
        }
      ]
    },
    {
      "cell_type": "code",
      "source": [
        "import os\n",
        "import glob\n",
        "import random\n",
        "import json\n",
        "import pandas as pd\n",
        "from PIL import Image\n",
        "import numpy as np\n",
        "import matplotlib.pyplot as plt\n",
        "\n",
        "import torch\n",
        "from torch.utils.data import Dataset, DataLoader\n",
        "import torch.nn as nn\n",
        "import torch.optim as optim\n",
        "import torchvision.transforms as transforms\n",
        "import torchvision.models as models\n",
        "\n",
        "import wandb\n",
        "\n",
        "##############################################\n",
        "# Helper function to find a file recursively in a directory.\n",
        "##############################################\n",
        "def find_file(filename, directory):\n",
        "    for root, dirs, files in os.walk(directory):\n",
        "        if filename in files:\n",
        "            return os.path.join(root, filename)\n",
        "    return None\n",
        "\n",
        "##############################################\n",
        "# Helper function to fix image paths.\n",
        "##############################################\n",
        "def fix_image_path(rel_path, base_dir):\n",
        "    path = os.path.join(base_dir, rel_path)\n",
        "    if os.path.exists(path):\n",
        "        return path\n",
        "    alt_path = os.path.join(base_dir, \"images\", rel_path)\n",
        "    if os.path.exists(alt_path):\n",
        "        return alt_path\n",
        "    return path\n",
        "\n",
        "##############################################\n",
        "# Build a mapping from image ID to image file path.\n",
        "##############################################\n",
        "def build_image_dict(dataset_dir):\n",
        "    # Try \"images\" subfolder first; if not present, use dataset_dir.\n",
        "    images_folder = os.path.join(dataset_dir, \"images\")\n",
        "    if not os.path.exists(images_folder):\n",
        "        images_folder = dataset_dir\n",
        "    # Search common image extensions.\n",
        "    image_files = glob.glob(os.path.join(images_folder, \"*.jpg\")) + \\\n",
        "                  glob.glob(os.path.join(images_folder, \"*.jpeg\")) + \\\n",
        "                  glob.glob(os.path.join(images_folder, \"*.png\"))\n",
        "    image_dict = {}\n",
        "    for path in image_files:\n",
        "        basename = os.path.basename(path)\n",
        "        img_id = os.path.splitext(basename)[0]\n",
        "        image_dict[img_id] = path\n",
        "    if not image_dict:\n",
        "        print(f\"Warning: No images found in {images_folder}. Dummy images will be used.\")\n",
        "    return image_dict\n",
        "\n",
        "##############################################\n",
        "# Function to create a dummy image and return its path.\n",
        "##############################################\n",
        "def get_dummy_image(dataset_dir, size=(224,224), color=(0,0,0)):\n",
        "    dummy_path = os.path.join(dataset_dir, \"dummy.jpg\")\n",
        "    if not os.path.exists(dummy_path):\n",
        "        dummy_img = Image.new(\"RGB\", size, color)\n",
        "        dummy_img.save(dummy_path)\n",
        "    return dummy_path\n",
        "\n",
        "##############################################\n",
        "# Function to create train.csv and val.csv for Visual Genome using objects.json.\n",
        "##############################################\n",
        "def create_csv_files_vg(dataset_dir, train_csv_path, val_csv_path, train_ratio=0.8, top_k=50):\n",
        "    \"\"\"\n",
        "    Reads object annotations from objects.json (from Visual Genome v1.4)\n",
        "    and creates train.csv and val.csv for multi-label classification.\n",
        "\n",
        "    It uses the annotation file objects.json and, if available, object_alias.txt to map synonyms.\n",
        "    Then, it counts the frequency of object names, retains only the top_k most frequent,\n",
        "    filters each image’s label set accordingly, shuffles, and splits into train/val CSV files.\n",
        "\n",
        "    If image files are not found, a dummy image is used.\n",
        "    \"\"\"\n",
        "    # Locate the objects annotation file.\n",
        "    objects_file = find_file(\"objects.json\", dataset_dir)\n",
        "    if not objects_file:\n",
        "        raise FileNotFoundError(\"objects.json not found in the dataset directory.\")\n",
        "\n",
        "    with open(objects_file, 'r') as f:\n",
        "        objects_data = json.load(f)\n",
        "\n",
        "    # Build a mapping from image ID to image file path.\n",
        "    image_dict = build_image_dict(dataset_dir)\n",
        "\n",
        "    # Read alias mapping from object_alias.txt if available.\n",
        "    alias_file = find_file(\"object_alias.txt\", dataset_dir)\n",
        "    alias_mapping = {}\n",
        "    if alias_file:\n",
        "        with open(alias_file, \"r\") as f:\n",
        "            for line in f:\n",
        "                synonyms = line.strip().split(\",\")\n",
        "                if synonyms:\n",
        "                    canonical = synonyms[0].strip().lower()\n",
        "                    for syn in synonyms:\n",
        "                        alias_mapping[syn.strip().lower()] = canonical\n",
        "\n",
        "    freq = {}\n",
        "    rows = []\n",
        "    # Process each annotation entry.\n",
        "    for entry in objects_data:\n",
        "        image_id = str(entry.get(\"image_id\"))\n",
        "        obj_list = entry.get(\"objects\", [])\n",
        "        labels_set = set()\n",
        "        for obj in obj_list:\n",
        "            names = obj.get(\"names\", [])\n",
        "            for name in names:\n",
        "                name = name.lower().strip()\n",
        "                if name in alias_mapping:\n",
        "                    name = alias_mapping[name]\n",
        "                labels_set.add(name)\n",
        "                freq[name] = freq.get(name, 0) + 1\n",
        "        # Even if no labels, add the row (it may later be filtered).\n",
        "        label_str = \",\".join(sorted(labels_set))\n",
        "        if image_id in image_dict:\n",
        "            image_path = image_dict[image_id]\n",
        "        else:\n",
        "            image_path = get_dummy_image(dataset_dir)\n",
        "        rows.append({\"image_path\": image_path, \"labels\": label_str})\n",
        "\n",
        "    if not rows:\n",
        "        raise FileNotFoundError(\"No annotation rows could be generated from objects.json.\")\n",
        "\n",
        "    df = pd.DataFrame(rows)\n",
        "    # Determine top_k most frequent labels.\n",
        "    sorted_classes = sorted(freq.items(), key=lambda x: x[1], reverse=True)\n",
        "    top_classes = set([cls for cls, count in sorted_classes[:top_k]])\n",
        "\n",
        "    def filter_labels(label_str):\n",
        "        labels = label_str.split(\",\")\n",
        "        filtered = [l for l in labels if l in top_classes]\n",
        "        return \",\".join(sorted(filtered))\n",
        "\n",
        "    df[\"labels\"] = df[\"labels\"].apply(filter_labels)\n",
        "    # Remove rows with empty label set.\n",
        "    df = df[df[\"labels\"] != \"\"]\n",
        "\n",
        "    # Final list of classes used.\n",
        "    classes = sorted(set(\",\".join(df[\"labels\"].tolist()).split(\",\")))\n",
        "\n",
        "    df = df.sample(frac=1, random_state=42).reset_index(drop=True)\n",
        "    split_idx = int(len(df) * train_ratio)\n",
        "    train_df = df.iloc[:split_idx]\n",
        "    val_df = df.iloc[split_idx:]\n",
        "\n",
        "    train_df.to_csv(train_csv_path, index=False)\n",
        "    val_df.to_csv(val_csv_path, index=False)\n",
        "    print(f\"Created {len(train_df)} training samples and {len(val_df)} validation samples for Visual Genome.\")\n",
        "\n",
        "    return classes\n",
        "\n",
        "##############################################\n",
        "# Custom Dataset for Multi-label Classification\n",
        "##############################################\n",
        "class MultiLabelDataset(Dataset):\n",
        "    def __init__(self, csv_file, classes, transform=None):\n",
        "        self.data = pd.read_csv(csv_file)\n",
        "        self.classes = classes\n",
        "        self.transform = transform\n",
        "\n",
        "    def __len__(self):\n",
        "        return len(self.data)\n",
        "\n",
        "    def __getitem__(self, idx):\n",
        "        row = self.data.iloc[idx]\n",
        "        image_path = row['image_path']\n",
        "        label_str = row['labels'].strip()\n",
        "        label_vector = np.zeros(len(self.classes), dtype=np.float32)\n",
        "        for label in label_str.split(\",\"):\n",
        "            if label in self.classes:\n",
        "                label_vector[self.classes.index(label)] = 1.0\n",
        "        image = Image.open(image_path).convert('RGB')\n",
        "        if self.transform:\n",
        "            image = self.transform(image)\n",
        "        return image, torch.FloatTensor(label_vector)\n",
        "\n",
        "##############################################\n",
        "# Multi-label Model based on ResNet50\n",
        "##############################################\n",
        "class MultiLabelResNet(nn.Module):\n",
        "    def __init__(self, num_classes, dropout_rate=0.5):\n",
        "        super(MultiLabelResNet, self).__init__()\n",
        "        self.base_model = models.resnet50(weights=models.ResNet50_Weights.IMAGENET1K_V1)\n",
        "        num_ftrs = self.base_model.fc.in_features\n",
        "        self.base_model.fc = nn.Sequential(\n",
        "            nn.Dropout(dropout_rate),\n",
        "            nn.Linear(num_ftrs, num_classes)\n",
        "        )\n",
        "\n",
        "    def forward(self, x):\n",
        "        return self.base_model(x)\n",
        "\n",
        "##############################################\n",
        "# Ranking Loss for Multi-label Learning\n",
        "##############################################\n",
        "class RankingLoss(nn.Module):\n",
        "    def __init__(self, margin=1.0):\n",
        "        super(RankingLoss, self).__init__()\n",
        "        self.margin = margin\n",
        "\n",
        "    def forward(self, outputs, targets):\n",
        "        loss = 0.0\n",
        "        batch_size = outputs.size(0)\n",
        "        for i in range(batch_size):\n",
        "            pos_idx = (targets[i] == 1).nonzero(as_tuple=False).squeeze()\n",
        "            neg_idx = (targets[i] == 0).nonzero(as_tuple=False).squeeze()\n",
        "            if pos_idx.dim() == 0:\n",
        "                pos_idx = pos_idx.unsqueeze(0)\n",
        "            if neg_idx.dim() == 0:\n",
        "                neg_idx = neg_idx.unsqueeze(0)\n",
        "            pos_scores = outputs[i][pos_idx]\n",
        "            neg_scores = outputs[i][neg_idx]\n",
        "            for pos in pos_scores:\n",
        "                for neg in neg_scores:\n",
        "                    loss += torch.clamp(self.margin - (pos - neg), min=0)\n",
        "        return loss / batch_size\n",
        "\n",
        "##############################################\n",
        "# Combined Loss: Ranking Loss + BCE Loss\n",
        "##############################################\n",
        "def combined_loss(outputs, targets, ranking_loss_fn, bce_loss_fn, alpha=0.5):\n",
        "    loss_ranking = ranking_loss_fn(outputs, targets)\n",
        "    loss_bce = bce_loss_fn(outputs, targets)\n",
        "    return alpha * loss_ranking + (1 - alpha) * loss_bce\n",
        "\n",
        "##############################################\n",
        "# Validation Function to Compute Metrics\n",
        "##############################################\n",
        "def validate(model, val_loader, device, threshold=0.5):\n",
        "    model.eval()\n",
        "    total_loss = 0.0\n",
        "    total_samples = 0\n",
        "    exact_match = 0\n",
        "    hamming_loss_total = 0.0\n",
        "    bce_loss_fn = nn.BCEWithLogitsLoss()\n",
        "\n",
        "    with torch.no_grad():\n",
        "        for inputs, labels in val_loader:\n",
        "            inputs = inputs.to(device)\n",
        "            labels = labels.to(device)\n",
        "            outputs = model(inputs)\n",
        "            loss = bce_loss_fn(outputs, labels)\n",
        "            total_loss += loss.item() * inputs.size(0)\n",
        "            total_samples += inputs.size(0)\n",
        "\n",
        "            preds = torch.sigmoid(outputs)\n",
        "            preds = (preds > threshold).float()\n",
        "            exact_match += (preds == labels).all(dim=1).sum().item()\n",
        "            sample_hamming = (preds != labels).sum(dim=1) / labels.size(1)\n",
        "            hamming_loss_total += sample_hamming.sum().item()\n",
        "\n",
        "    avg_loss = total_loss / total_samples\n",
        "    exact_match_ratio = exact_match / total_samples\n",
        "    avg_hamming_loss = hamming_loss_total / total_samples\n",
        "    return avg_loss, exact_match_ratio, avg_hamming_loss\n",
        "\n",
        "##############################################\n",
        "# Main Training and Evaluation Loop\n",
        "##############################################\n",
        "def main():\n",
        "    # Set dataset_dir to your Visual Genome dataset directory.\n",
        "    dataset_dir = \"/root/.cache/kagglehub/datasets/mathurinache/visual-genome/versions/1\"\n",
        "    csv_train_path = os.path.join(dataset_dir, \"train.csv\")\n",
        "    csv_val_path = os.path.join(dataset_dir, \"val.csv\")\n",
        "\n",
        "    if not os.path.exists(csv_train_path) or not os.path.exists(csv_val_path):\n",
        "        print(\"CSV files not found. Creating train.csv and val.csv from Visual Genome objects...\")\n",
        "        classes = create_csv_files_vg(dataset_dir, csv_train_path, csv_val_path, train_ratio=0.8, top_k=50)\n",
        "    else:\n",
        "        df = pd.read_csv(csv_train_path)\n",
        "        classes = sorted(set(\",\".join(df[\"labels\"].tolist()).split(\",\")))\n",
        "\n",
        "    config_dict = {\n",
        "        \"epochs\": 3,\n",
        "        \"batch_size\": 16,\n",
        "        \"learning_rate\": 0.001,\n",
        "        \"architecture\": \"ResNet50\",\n",
        "        \"hidden_layers\": 3,\n",
        "        \"activation\": \"ReLU\",\n",
        "        \"data_augmentation\": \"Resize+RandomHorizontalFlip\",\n",
        "        \"dropout_rate\": 0.5,\n",
        "        \"image_size\": 224,\n",
        "        \"loss_alpha\": 0.5,\n",
        "        \"csv_train\": csv_train_path,\n",
        "        \"csv_val\": csv_val_path,\n",
        "        \"classes\": classes\n",
        "    }\n",
        "\n",
        "    run_name = f\"hl_{config_dict['hidden_layers']}_bs_{config_dict['batch_size']}_ac_{config_dict['activation']}\"\n",
        "    wandb.init(project=\"multi_label_classification\", name=run_name, config=config_dict)\n",
        "    config = wandb.config\n",
        "\n",
        "    train_transforms = transforms.Compose([\n",
        "        transforms.Resize((config.image_size, config.image_size)),\n",
        "        transforms.RandomHorizontalFlip(),\n",
        "        transforms.ToTensor(),\n",
        "        transforms.Normalize([0.485, 0.456, 0.406], [0.229, 0.224, 0.225])\n",
        "    ])\n",
        "\n",
        "    val_transforms = transforms.Compose([\n",
        "        transforms.Resize((config.image_size, config.image_size)),\n",
        "        transforms.ToTensor(),\n",
        "        transforms.Normalize([0.485, 0.456, 0.406], [0.229, 0.224, 0.225])\n",
        "    ])\n",
        "\n",
        "    train_dataset = MultiLabelDataset(csv_file=config.csv_train, classes=config.classes, transform=train_transforms)\n",
        "    val_dataset = MultiLabelDataset(csv_file=config.csv_val, classes=config.classes, transform=val_transforms)\n",
        "\n",
        "    train_loader = DataLoader(train_dataset, batch_size=config.batch_size, shuffle=True, num_workers=2)\n",
        "    val_loader = DataLoader(val_dataset, batch_size=config.batch_size, shuffle=False, num_workers=2)\n",
        "\n",
        "    device = torch.device(\"cuda\" if torch.cuda.is_available() else \"cpu\")\n",
        "    num_classes = len(config.classes)\n",
        "\n",
        "    model = MultiLabelResNet(num_classes, dropout_rate=config.dropout_rate).to(device)\n",
        "    optimizer = optim.Adam(model.parameters(), lr=config.learning_rate)\n",
        "    bce_loss_fn = nn.BCEWithLogitsLoss()\n",
        "    ranking_loss_fn = RankingLoss(margin=1.0)\n",
        "\n",
        "    train_loss_list = []\n",
        "    val_loss_list = []\n",
        "    epochs_list = []\n",
        "\n",
        "    for epoch in range(config.epochs):\n",
        "        model.train()\n",
        "        epoch_loss = 0.0\n",
        "        for inputs, labels in train_loader:\n",
        "            inputs = inputs.to(device)\n",
        "            labels = labels.to(device)\n",
        "\n",
        "            optimizer.zero_grad()\n",
        "            outputs = model(inputs)\n",
        "            loss = combined_loss(outputs, labels, ranking_loss_fn, bce_loss_fn, alpha=config.loss_alpha)\n",
        "            loss.backward()\n",
        "            optimizer.step()\n",
        "            epoch_loss += loss.item() * inputs.size(0)\n",
        "\n",
        "        avg_train_loss = epoch_loss / len(train_dataset)\n",
        "        wandb.log({\"train_loss\": avg_train_loss, \"epoch\": epoch})\n",
        "        train_loss_list.append(avg_train_loss)\n",
        "\n",
        "        val_loss, exact_match_ratio, avg_hamming_loss = validate(model, val_loader, device)\n",
        "        wandb.log({\n",
        "            \"val_loss\": val_loss,\n",
        "            \"exact_match_ratio\": exact_match_ratio,\n",
        "            \"avg_hamming_loss\": avg_hamming_loss,\n",
        "            \"epoch\": epoch\n",
        "        })\n",
        "        val_loss_list.append(val_loss)\n",
        "        epochs_list.append(epoch)\n",
        "\n",
        "        print(f\"Epoch {epoch+1}/{config.epochs}, Train Loss: {avg_train_loss:.4f}, Val Loss: {val_loss:.4f}, \"\n",
        "              f\"Exact Match: {exact_match_ratio:.4f}, Hamming Loss: {avg_hamming_loss:.4f}\")\n",
        "\n",
        "    plt.figure(figsize=(8, 6))\n",
        "    plt.plot(epochs_list, train_loss_list, label='Train Loss')\n",
        "    plt.plot(epochs_list, val_loss_list, label='Validation Loss')\n",
        "    plt.xlabel('Epoch')\n",
        "    plt.ylabel('Loss')\n",
        "    plt.title('Loss Curves')\n",
        "    plt.legend()\n",
        "    plt.grid(True)\n",
        "    wandb.log({\"loss_curve\": wandb.Image(plt)})\n",
        "    plt.show()\n",
        "\n",
        "    torch.save(model.state_dict(), \"multi_label_resnet.pth\")\n",
        "    wandb.save(\"multi_label_resnet.pth\")\n",
        "\n",
        "if __name__ == \"__main__\":\n",
        "    main()\n"
      ],
      "metadata": {
        "colab": {
          "base_uri": "https://localhost:8080/",
          "height": 367
        },
        "id": "sffSZgzcjCzT",
        "outputId": "ffe387ca-f5de-4fd1-b842-dafb94f21101"
      },
      "execution_count": null,
      "outputs": [
        {
          "metadata": {
            "tags": null
          },
          "name": "stdout",
          "output_type": "stream",
          "text": [
            "CSV files not found. Creating train.csv and val.csv from Visual Genome objects...\n",
            "Warning: No images found in /root/.cache/kagglehub/datasets/mathurinache/visual-genome/versions/1. Dummy images will be used.\n",
            "Created 82968 training samples and 20743 validation samples for Visual Genome.\n"
          ]
        },
        {
          "metadata": {
            "tags": null
          },
          "name": "stderr",
          "output_type": "stream",
          "text": [
            "\u001b[34m\u001b[1mwandb\u001b[0m: Using wandb-core as the SDK backend.  Please refer to https://wandb.me/wandb-core for more information.\n"
          ]
        },
        {
          "data": {
            "application/javascript": [
              "\n",
              "        window._wandbApiKey = new Promise((resolve, reject) => {\n",
              "            function loadScript(url) {\n",
              "            return new Promise(function(resolve, reject) {\n",
              "                let newScript = document.createElement(\"script\");\n",
              "                newScript.onerror = reject;\n",
              "                newScript.onload = resolve;\n",
              "                document.body.appendChild(newScript);\n",
              "                newScript.src = url;\n",
              "            });\n",
              "            }\n",
              "            loadScript(\"https://cdn.jsdelivr.net/npm/postmate/build/postmate.min.js\").then(() => {\n",
              "            const iframe = document.createElement('iframe')\n",
              "            iframe.style.cssText = \"width:0;height:0;border:none\"\n",
              "            document.body.appendChild(iframe)\n",
              "            const handshake = new Postmate({\n",
              "                container: iframe,\n",
              "                url: 'https://wandb.ai/authorize'\n",
              "            });\n",
              "            const timeout = setTimeout(() => reject(\"Couldn't auto authenticate\"), 5000)\n",
              "            handshake.then(function(child) {\n",
              "                child.on('authorize', data => {\n",
              "                    clearTimeout(timeout)\n",
              "                    resolve(data)\n",
              "                });\n",
              "            });\n",
              "            })\n",
              "        });\n",
              "    "
            ],
            "text/plain": [
              "<IPython.core.display.Javascript object>"
            ]
          },
          "metadata": {},
          "output_type": "display_data"
        },
        {
          "metadata": {
            "tags": null
          },
          "name": "stderr",
          "output_type": "stream",
          "text": [
            "\u001b[34m\u001b[1mwandb\u001b[0m: Logging into wandb.ai. (Learn how to deploy a W&B server locally: https://wandb.me/wandb-server)\n",
            "\u001b[34m\u001b[1mwandb\u001b[0m: You can find your API key in your browser here: https://wandb.ai/authorize\n",
            "wandb: Paste an API key from your profile and hit enter:\u001b[34m\u001b[1mwandb\u001b[0m: \u001b[33mWARNING\u001b[0m If you're specifying your api key in code, ensure this code is not shared publicly.\n",
            "\u001b[34m\u001b[1mwandb\u001b[0m: \u001b[33mWARNING\u001b[0m Consider setting the WANDB_API_KEY environment variable, or running `wandb login` from the command line.\n",
            "\u001b[34m\u001b[1mwandb\u001b[0m: No netrc file found, creating one.\n",
            "\u001b[34m\u001b[1mwandb\u001b[0m: Appending key for api.wandb.ai to your netrc file: /root/.netrc\n",
            "\u001b[34m\u001b[1mwandb\u001b[0m: Currently logged in as: \u001b[33mshahi77\u001b[0m (\u001b[33mshahi77-national-institute-of-technology-hamirpur\u001b[0m) to \u001b[32mhttps://api.wandb.ai\u001b[0m. Use \u001b[1m`wandb login --relogin`\u001b[0m to force relogin\n"
          ]
        },
        {
          "data": {
            "text/html": [
              "Tracking run with wandb version 0.19.7"
            ],
            "text/plain": [
              "<IPython.core.display.HTML object>"
            ]
          },
          "metadata": {},
          "output_type": "display_data"
        },
        {
          "data": {
            "text/html": [
              "Run data is saved locally in <code>/content/wandb/run-20250310_150918-6towe5in</code>"
            ],
            "text/plain": [
              "<IPython.core.display.HTML object>"
            ]
          },
          "metadata": {},
          "output_type": "display_data"
        },
        {
          "data": {
            "text/html": [
              "Syncing run <strong><a href='https://wandb.ai/shahi77-national-institute-of-technology-hamirpur/multi_label_classification/runs/6towe5in' target=\"_blank\">hl_3_bs_16_ac_ReLU</a></strong> to <a href='https://wandb.ai/shahi77-national-institute-of-technology-hamirpur/multi_label_classification' target=\"_blank\">Weights & Biases</a> (<a href='https://wandb.me/developer-guide' target=\"_blank\">docs</a>)<br>"
            ],
            "text/plain": [
              "<IPython.core.display.HTML object>"
            ]
          },
          "metadata": {},
          "output_type": "display_data"
        },
        {
          "data": {
            "text/html": [
              " View project at <a href='https://wandb.ai/shahi77-national-institute-of-technology-hamirpur/multi_label_classification' target=\"_blank\">https://wandb.ai/shahi77-national-institute-of-technology-hamirpur/multi_label_classification</a>"
            ],
            "text/plain": [
              "<IPython.core.display.HTML object>"
            ]
          },
          "metadata": {},
          "output_type": "display_data"
        },
        {
          "data": {
            "text/html": [
              " View run at <a href='https://wandb.ai/shahi77-national-institute-of-technology-hamirpur/multi_label_classification/runs/6towe5in' target=\"_blank\">https://wandb.ai/shahi77-national-institute-of-technology-hamirpur/multi_label_classification/runs/6towe5in</a>"
            ],
            "text/plain": [
              "<IPython.core.display.HTML object>"
            ]
          },
          "metadata": {},
          "output_type": "display_data"
        },
        {
          "metadata": {
            "tags": null
          },
          "name": "stderr",
          "output_type": "stream",
          "text": [
            "Downloading: \"https://download.pytorch.org/models/resnet50-0676ba61.pth\" to /root/.cache/torch/hub/checkpoints/resnet50-0676ba61.pth\n",
            "100%|██████████| 97.8M/97.8M [00:00<00:00, 135MB/s]\n"
          ]
        }
      ]
    }
  ],
  "metadata": {
    "colab": {
      "provenance": [],
      "gpuType": "T4",
      "authorship_tag": "ABX9TyOlhss8YKf2bMSV1sfXzI10",
      "include_colab_link": true
    },
    "kernelspec": {
      "display_name": "Python 3",
      "name": "python3"
    },
    "language_info": {
      "name": "python"
    },
    "accelerator": "GPU"
  },
  "nbformat": 4,
  "nbformat_minor": 0
}